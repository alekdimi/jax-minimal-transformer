{
 "cells": [
  {
   "cell_type": "code",
   "execution_count": 49,
   "metadata": {},
   "outputs": [],
   "source": [
    "import jax\n",
    "import jax.numpy as jnp"
   ]
  },
  {
   "cell_type": "code",
   "execution_count": 66,
   "metadata": {},
   "outputs": [
    {
     "data": {
      "text/plain": [
       "Array([[3, 3, 2, 1, 3, 2, 3, 1, 2, 3],\n",
       "       [2, 0, 0, 2, 0, 0, 0, 1, 0, 0]], dtype=int32)"
      ]
     },
     "execution_count": 66,
     "metadata": {},
     "output_type": "execute_result"
    }
   ],
   "source": [
    "k = 3\n",
    "seed = 0\n",
    "num_samples=10\n",
    "logits = jnp.array([[1.0, 2.0, 3.0, 4.0], [8.0, 6.0, 7.0, 5.0]])\n",
    "\n",
    "logits = jnp.moveaxis(logits, -1, 0)\n",
    "num_logits, batch_size = logits.shape[0], logits.shape[1:]\n",
    "assert (\n",
    "        0 < k <= num_logits\n",
    "    ), \"k must be greater than 0 and less than or equal to the number of logits.\"\n",
    "\n",
    "top_k_indices = jnp.argsort(logits, axis=0, descending=True)[k-1:k]\n",
    "top_k_logit = jnp.take_along_axis(logits, top_k_indices, axis=0)\n",
    "top_k_logits = jnp.where(logits >= top_k_logit, logits, 1e-16)\n",
    "top_k_logits = jnp.moveaxis(top_k_logits, 0, -1)\n",
    "bla = jax.random.categorical(\n",
    "        key=jax.random.PRNGKey(seed),\n",
    "        logits=top_k_logits,\n",
    "        axis=-1,\n",
    "        shape=(num_samples, *batch_size),\n",
    ")\n",
    "bla = jnp.moveaxis(bla, 0, -1)\n",
    "bla\n",
    "#logits.shape, top_k_indices.shape, top_k_logit.shape, jnp.where(logits >= top_k_logit, logits, 1e-16)"
   ]
  },
  {
   "cell_type": "code",
   "execution_count": 76,
   "metadata": {},
   "outputs": [
    {
     "name": "stdout",
     "output_type": "stream",
     "text": [
      "(2, 10)\n"
     ]
    }
   ],
   "source": [
    "k = 2\n",
    "seed = 0\n",
    "num_samples=10\n",
    "logits = jnp.array([[1.0, 2.0, 3.0, 4.0], [8.0, 6.0, 7.0, 5.0]])\n",
    "\n",
    "\n",
    "\n",
    "batch_size, num_logits = logits.shape[:-1], logits.shape[-1]\n",
    "assert (\n",
    "        0 < k <= num_logits\n",
    "    ), \"k must be greater than 0 and less than or equal to the number of logits.\"\n",
    "\n",
    "top_k_indices = jnp.argsort(logits, axis=-1, descending=True)[..., k-1:k]\n",
    "top_k_logit = jnp.take_along_axis(logits, top_k_indices, axis=-1)\n",
    "top_k_logits = jnp.where(logits >= top_k_logit, logits, 1e-16)\n",
    "samples = jax.random.categorical(\n",
    "        key=jax.random.PRNGKey(seed),\n",
    "        logits=top_k_logits,\n",
    "        axis=-1,\n",
    "        shape=(num_samples, *batch_size),\n",
    ")\n",
    "samples = jnp.moveaxis(samples, 0, -1)\n",
    "print(samples.shape)\n",
    "\n",
    "assert jnp.shape(samples) == (2, num_samples) \n"
   ]
  },
  {
   "cell_type": "code",
   "execution_count": null,
   "metadata": {},
   "outputs": [],
   "source": []
  }
 ],
 "metadata": {
  "kernelspec": {
   "display_name": "jax",
   "language": "python",
   "name": "python3"
  },
  "language_info": {
   "codemirror_mode": {
    "name": "ipython",
    "version": 3
   },
   "file_extension": ".py",
   "mimetype": "text/x-python",
   "name": "python",
   "nbconvert_exporter": "python",
   "pygments_lexer": "ipython3",
   "version": "3.12.4"
  }
 },
 "nbformat": 4,
 "nbformat_minor": 2
}
